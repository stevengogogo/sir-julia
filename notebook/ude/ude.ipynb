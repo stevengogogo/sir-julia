{
 "cells": [
  {
   "cell_type": "markdown",
   "metadata": {},
   "source": [
    "# Universal differential equation\n",
    "Simon Frost (@sdwfrost), 2022-03-28\n",
    "\n",
    "## Introduction\n",
    "\n",
    "[Universal differential equations](https://arxiv.org/abs/2001.04385) combine neural networks with differential equation models, in order to combine domain-specific knowledge with data-driven insights. In this tutorial, we use a neural network to model the force of infection without making prior assumptions of the functional form, using noisy data of the number of new infections per day.\n",
    "\n",
    "## Libraries"
   ]
  },
  {
   "cell_type": "code",
   "execution_count": null,
   "metadata": {},
   "outputs": [],
   "source": [
    "using OrdinaryDiffEq\n",
    "using Distributions\n",
    "using DiffEqFlux, Flux\n",
    "using Random\n",
    "using Optimization\n",
    "using Plots;"
   ]
  },
  {
   "cell_type": "code",
   "execution_count": null,
   "metadata": {},
   "outputs": [],
   "source": [
    "Random.seed!(123);"
   ]
  },
  {
   "cell_type": "markdown",
   "metadata": {},
   "source": [
    "## Transitions"
   ]
  },
  {
   "cell_type": "code",
   "execution_count": null,
   "metadata": {},
   "outputs": [],
   "source": [
    "function sir_ode(u,p,t)\n",
    "    (S,I,C) = u\n",
    "    (β,γ) = p\n",
    "    dS = -β*S*I\n",
    "    dI = β*S*I - γ*I\n",
    "    dC = β*S*I\n",
    "    [dS,dI,dC]\n",
    "end;"
   ]
  },
  {
   "cell_type": "markdown",
   "metadata": {},
   "source": [
    "## Settings"
   ]
  },
  {
   "cell_type": "code",
   "execution_count": null,
   "metadata": {},
   "outputs": [],
   "source": [
    "solver = RadauIIA3();"
   ]
  },
  {
   "cell_type": "markdown",
   "metadata": {},
   "source": [
    "Although the model is in terms of proportions of susceptible, infected, and recovered individuals, we define the total population size, `N`, so we can generate random data of the number of new cases per day."
   ]
  },
  {
   "cell_type": "code",
   "execution_count": null,
   "metadata": {},
   "outputs": [],
   "source": [
    "N = 1000.0\n",
    "p = [0.5,0.25]\n",
    "u0 = [0.99, 0.01, 0.0]\n",
    "tspan = (0., 40.)\n",
    "δt = 1;"
   ]
  },
  {
   "cell_type": "markdown",
   "metadata": {},
   "source": [
    "## Solving the true model"
   ]
  },
  {
   "cell_type": "code",
   "execution_count": null,
   "metadata": {},
   "outputs": [],
   "source": [
    "sir_prob = ODEProblem(sir_ode, u0, tspan, p)\n",
    "sir_sol = solve(sir_prob, solver, saveat = δt);"
   ]
  },
  {
   "cell_type": "code",
   "execution_count": null,
   "metadata": {},
   "outputs": [],
   "source": [
    "plot(sir_sol,\n",
    "     xlabel = \"Time\",\n",
    "     ylabel = \"Proportion\",\n",
    "     labels = [\"S\" \"I\" \"R\"])"
   ]
  },
  {
   "cell_type": "markdown",
   "metadata": {},
   "source": [
    "## Generating 'observed' data\n",
    "\n",
    "We define the time over which the training data are generated, and generate noisy data corresponding to the number of new cases per day."
   ]
  },
  {
   "cell_type": "code",
   "execution_count": null,
   "metadata": {},
   "outputs": [],
   "source": [
    "train_time = 30.0\n",
    "tsdata = Array(sir_sol(0:δt:train_time))\n",
    "cdata = diff(tsdata[3,:])\n",
    "noisy_data = rand.(Poisson.(N .* cdata));"
   ]
  },
  {
   "cell_type": "code",
   "execution_count": null,
   "metadata": {},
   "outputs": [],
   "source": [
    "plot(1:δt:train_time, N .* cdata,\n",
    "     xlabel = \"Time\",\n",
    "     ylabel = \"New cases per day\",\n",
    "     label = \"True value\")\n",
    "scatter!(1:δt:train_time, noisy_data, label=\"Data\")"
   ]
  },
  {
   "cell_type": "markdown",
   "metadata": {},
   "source": [
    "##  Single layer network\n",
    "\n",
    "We start by defining a single neural network layer with one input and one output and no bias parameter, which is the true relationship between `i` and the force of infection."
   ]
  },
  {
   "cell_type": "code",
   "execution_count": null,
   "metadata": {},
   "outputs": [],
   "source": [
    "foi1 = FastDense(1, 1, relu, bias=false)\n",
    "p1_ = Float64.(initial_params(foi1))\n",
    "length(p1_)"
   ]
  },
  {
   "cell_type": "markdown",
   "metadata": {},
   "source": [
    "The following model allows one to change the function used to describe the force of infection, i.e. the per-capita rate at which susceptible individuals become infected."
   ]
  },
  {
   "cell_type": "code",
   "execution_count": null,
   "metadata": {},
   "outputs": [],
   "source": [
    "function sir_ude(u,p_,t,foi)\n",
    "    S,I,C = u\n",
    "    β,γ = p\n",
    "    λ = foi([I],p_)[1]\n",
    "    dS = -λ*S\n",
    "    dI = λ*S - γ*I\n",
    "    dC = λ*S\n",
    "    [dS, dI, dC]\n",
    "end;"
   ]
  },
  {
   "cell_type": "code",
   "execution_count": null,
   "metadata": {},
   "outputs": [],
   "source": [
    "tspan_train = (0,train_time)\n",
    "sir_ude1 = (u,p_,t) -> sir_ude(u,p_,t,foi1)\n",
    "prob_ude1 = ODEProblem(sir_ude1,\n",
    "                      u0,\n",
    "                      tspan_train,\n",
    "                      p1_);"
   ]
  },
  {
   "cell_type": "markdown",
   "metadata": {},
   "source": [
    "To fit this model, we first need to define a function that predicts the outcome given a set of parameters."
   ]
  },
  {
   "cell_type": "code",
   "execution_count": null,
   "metadata": {},
   "outputs": [],
   "source": [
    "function predict(θ, prob)\n",
    "    Array(solve(prob,\n",
    "                solver;\n",
    "                u0 = u0,\n",
    "                p = θ,\n",
    "                saveat = δt,\n",
    "                sensealg = InterpolatingAdjoint(autojacvec=ReverseDiffVJP())))\n",
    "end;"
   ]
  },
  {
   "cell_type": "markdown",
   "metadata": {},
   "source": [
    "Secondly, we define a loss function that uses this predict function to calculate the loss between the predicted data and the true data. We employ a Poisson loss, as we are comparing our model against counts of new cases."
   ]
  },
  {
   "cell_type": "code",
   "execution_count": null,
   "metadata": {},
   "outputs": [],
   "source": [
    "function loss(θ, prob)\n",
    "    pred = predict(θ, prob)\n",
    "    cpred = abs.(N*diff(pred[3,:]))\n",
    "    Flux.poisson_loss(cpred, float.(noisy_data)), cpred\n",
    "end;"
   ]
  },
  {
   "cell_type": "markdown",
   "metadata": {},
   "source": [
    "We run this function once to make sure it is precompiled."
   ]
  },
  {
   "cell_type": "code",
   "execution_count": null,
   "metadata": {},
   "outputs": [],
   "source": [
    "loss(prob_ude1.p, prob_ude1);"
   ]
  },
  {
   "cell_type": "markdown",
   "metadata": {},
   "source": [
    "To keep track of the running of the model, we store the losses in a `Vector` and use a callback to report on the model fit every 10 epochs."
   ]
  },
  {
   "cell_type": "code",
   "execution_count": null,
   "metadata": {},
   "outputs": [],
   "source": [
    "const losses1 = []\n",
    "callback1 = function (p, l, pred)\n",
    "    push!(losses1, l)\n",
    "    numloss = length(losses1)\n",
    "    if numloss % 10 == 0\n",
    "        display(\"Epoch: \" * string(numloss) * \" Loss: \" * string(l))\n",
    "    end\n",
    "    return false\n",
    "end;"
   ]
  },
  {
   "cell_type": "code",
   "execution_count": null,
   "metadata": {},
   "outputs": [],
   "source": [
    "res_ude1 = DiffEqFlux.sciml_train((θ)->loss(θ,prob_ude1),\n",
    "                                  p1_,\n",
    "                                  cb=callback1);"
   ]
  },
  {
   "cell_type": "markdown",
   "metadata": {},
   "source": [
    "The fitted parameter in this model corresponds to the infectivity parameter, `β`."
   ]
  },
  {
   "cell_type": "code",
   "execution_count": null,
   "metadata": {},
   "outputs": [],
   "source": [
    "res_ude1.minimizer, losses1[end]"
   ]
  },
  {
   "cell_type": "markdown",
   "metadata": {},
   "source": [
    "This model is fast to converge to an optimum due to the small number of trainable parameters."
   ]
  },
  {
   "cell_type": "code",
   "execution_count": null,
   "metadata": {},
   "outputs": [],
   "source": [
    "plot(losses1, xaxis = :log, xlabel = \"Iterations\", ylabel = \"Loss\", legend=false)"
   ]
  },
  {
   "cell_type": "markdown",
   "metadata": {},
   "source": [
    "The fitted model provides a good fit to all the states, despite only being trained on a noisy representation of the number of new infections."
   ]
  },
  {
   "cell_type": "code",
   "execution_count": null,
   "metadata": {},
   "outputs": [],
   "source": [
    "prob_ude1_fit = ODEProblem(sir_ude1, u0, tspan, res_ude1.minimizer)\n",
    "sol_ude1_fit = solve(prob_ude1_fit, solver, saveat = δt)\n",
    "scatter(sir_sol, label=[\"True Susceptible\" \"True Infected\" \"True Recovered\"],title=\"Fitted true model\")\n",
    "plot!(sol_ude1_fit, label=[\"Estimated Susceptible\" \"Estimated Infected\" \"Estimated Recovered\"])"
   ]
  },
  {
   "cell_type": "markdown",
   "metadata": {},
   "source": [
    "This plots the relationship between `i` and the force of infection, `λ`, which shows a good match."
   ]
  },
  {
   "cell_type": "code",
   "execution_count": null,
   "metadata": {},
   "outputs": [],
   "source": [
    "Imax = maximum(tsdata[2,:])\n",
    "Igrid = 0:0.01:0.5\n",
    "λ = [foi1([I],res_ude1.minimizer)[1] for I in Igrid]\n",
    "scatter(Igrid,λ,xlabel=\"Proportion of population infected, I\",ylab=\"Force of infection, λ\",label=\"Neural network prediction\")\n",
    "Plots.abline!(p[1],0,label=\"True value\")\n",
    "Plots.vline!([Imax],label=\"Upper bound of training data\")"
   ]
  },
  {
   "cell_type": "markdown",
   "metadata": {},
   "source": [
    "## Multiple layer network\n",
    "\n",
    "In the absence of prior knowledge, we use a neural network with multiple layers."
   ]
  },
  {
   "cell_type": "code",
   "execution_count": null,
   "metadata": {},
   "outputs": [],
   "source": [
    "Random.seed!(1234)\n",
    "nhidden = 4\n",
    "foi2 = FastChain(FastDense(1, nhidden, relu),\n",
    "                     FastDense(nhidden, nhidden, relu),\n",
    "                     FastDense(nhidden, 1, relu))\n",
    "p2_ = Float64.(initial_params(foi2))\n",
    "length(p2_)"
   ]
  },
  {
   "cell_type": "markdown",
   "metadata": {},
   "source": [
    "We wrap this neural network in a new `ODEProblem`."
   ]
  },
  {
   "cell_type": "code",
   "execution_count": null,
   "metadata": {},
   "outputs": [],
   "source": [
    "sir_ude2 = (u,p_,t) -> sir_ude(u,p_,t,foi2)\n",
    "prob_ude2 = ODEProblem(sir_ude2,\n",
    "                      u0,\n",
    "                      tspan_train,\n",
    "                      p2_);"
   ]
  },
  {
   "cell_type": "markdown",
   "metadata": {},
   "source": [
    "We define a new data structure to store the losses from the fitting of this more complex model."
   ]
  },
  {
   "cell_type": "code",
   "execution_count": null,
   "metadata": {},
   "outputs": [],
   "source": [
    "const losses2 = []\n",
    "callback2 = function (p, l, pred)\n",
    "    push!(losses2, l)\n",
    "    numloss = length(losses2)\n",
    "    if numloss % 10 == 0\n",
    "        display(\"Epoch: \" * string(numloss) * \" Loss: \" * string(l))\n",
    "    end\n",
    "    return false\n",
    "end;"
   ]
  },
  {
   "cell_type": "code",
   "execution_count": null,
   "metadata": {},
   "outputs": [],
   "source": [
    "adtype = Optimization.AutoZygote()\n",
    "optf = Optimization.OptimizationFunction((x,p)->loss(x, prob_ude1), adtype)\n",
    "optprob = Optimization.OptimizationProblem(optf, p1_)\n",
    "res_ude1 = Optimization.solve(optprob, ADAM(0.1), callback=callback1, maxiters = 200)"
   ]
  },
  {
   "cell_type": "markdown",
   "metadata": {},
   "source": [
    "Overall, the 'true' model and the more flexible model give a comparable fit to the data in terms of the loss function."
   ]
  },
  {
   "cell_type": "code",
   "execution_count": null,
   "metadata": {},
   "outputs": [],
   "source": [
    "losses1[end],losses2[end]"
   ]
  },
  {
   "cell_type": "markdown",
   "metadata": {},
   "source": [
    "Consistent with this, the multilayer model gives a good fit when plotted alongside the data."
   ]
  },
  {
   "cell_type": "code",
   "execution_count": null,
   "metadata": {},
   "outputs": [],
   "source": [
    "prob_ude2_fit = ODEProblem(sir_ude2, u0, tspan, res_ude2.minimizer)\n",
    "sol_ude2_fit = solve(prob_ude2_fit, solver, saveat = δt)\n",
    "scatter(sir_sol, label=[\"True Susceptible\" \"True Infected\" \"True Recovered\"],title=\"Fitted UDE model\")\n",
    "plot!(sol_ude2_fit, label=[\"Estimated Susceptible\" \"Estimated Infected\" \"Estimated Recovered\"])"
   ]
  },
  {
   "cell_type": "markdown",
   "metadata": {},
   "source": [
    "This is the inferred functional relationship between the proportion of infected individuals and the force of infection."
   ]
  },
  {
   "cell_type": "code",
   "execution_count": null,
   "metadata": {},
   "outputs": [],
   "source": [
    "λ = [foi2([I],res_ude2.minimizer)[1] for I in Igrid]\n",
    "scatter(Igrid, λ, xlabel=\"Proportion of population infected, i\", ylab=\"Force of infection, λ\", label=\"Neural network prediction\")\n",
    "Plots.abline!(p[1], 0,label=\"True value\")\n",
    "Plots.vline!([Imax], label=\"Upper bound of training data\")"
   ]
  },
  {
   "cell_type": "markdown",
   "metadata": {},
   "source": [
    "## Discussion\n",
    "\n",
    "The number of new infections per day is sufficient to fit an SIR model assuming the correct functional form for the force of infection. A universal differential equation that uses a multilayer neural network to infer the relationship between the proportion of infected individuals and the force of infection recovers the true relationship, at least for the range of the size of the infected subpopulation seen in the training data. As we would expect that the force of infection would be higher when there are more infected individuals, we could adapt the neural network to reflect a monotonic relationship, either by constraining the neural network, or by introducing a penalty term in the loss function."
   ]
  }
 ],
 "metadata": {
  "kernelspec": {
   "display_name": "Julia 1.8.0",
   "language": "julia",
   "name": "julia-1.8"
  },
  "language_info": {
   "file_extension": ".jl",
   "mimetype": "application/julia",
   "name": "julia",
   "version": "1.8.2"
  }
 },
 "nbformat": 4,
 "nbformat_minor": 4
}
